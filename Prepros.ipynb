{
 "cells": [
  {
   "cell_type": "code",
   "execution_count": 28,
   "metadata": {},
   "outputs": [],
   "source": [
    "import cv2\n",
    "import numpy as np\n",
    "from matplotlib import pyplot as plt\n",
    "from skimage.transform import resize"
   ]
  },
  {
   "cell_type": "code",
   "execution_count": 29,
   "metadata": {},
   "outputs": [],
   "source": [
    "X_train = np.load('X_train.npy',allow_pickle = True)\n",
    "y_train = np.load('y_train.npy',  allow_pickle = True)\n",
    "images_processed = []\n",
    "for i in range(X_train.shape[0]):\n",
    "    image = X_train[i]\n",
    "    image = cv2.convertScaleAbs(image, alpha=(255.0))\n",
    "    #cv2.imwrite('C:\\\\Users\\\\divyc\\\\Downloads\\\\ML\\\\MLPROJ2020\\\\TrainImages\\\\train'+str(i)+'.png',image)\n",
    "    cv2.imwrite('train'+str(i)+'.png',image)\n",
    "    #img = cv2.imread('C:\\\\Users\\\\divyc\\\\Downloads\\\\ML\\\\MLPROJ2020\\\\TrainImages\\\\train'+str(i)+'.png',0)\n",
    "    img = cv2.imread('train'+str(i)+'.png',0)\n",
    "    img = filterImage(img)\n",
    "    blur = cv2.GaussianBlur(img,(3,3),0)\n",
    "    ret1,threshImage = cv2.threshold(blur,150,255,cv2.THRESH_BINARY_INV)\n",
    "    kernel = np.ones((5,5), np.uint8)\n",
    "    finalImage = cv2.dilate(threshImage, kernel, iterations=1)\n",
    "    images_processed.append(finalImage)\n",
    "images_processed = np.array(images_processed)\n",
    "np.save('editX_train', images_processed)   "
   ]
  },
  {
   "cell_type": "code",
   "execution_count": 14,
   "metadata": {},
   "outputs": [],
   "source": [
    "def filterImage(img):\n",
    "    rgb_planes = cv2.split(img)\n",
    "    result_planes = []\n",
    "    result_norm_planes = []\n",
    "    for plane in rgb_planes:\n",
    "        dilated_img = cv2.dilate(plane, np.ones((7,7), np.uint8))\n",
    "        bg_img = cv2.medianBlur(dilated_img, 51)\n",
    "        diff_img = 255 - cv2.absdiff(plane, bg_img)\n",
    "        norm_img = cv2.normalize(diff_img,None, alpha=0, beta=255, norm_type=cv2.NORM_MINMAX, dtype=cv2.CV_8UC1)\n",
    "        result_planes.append(diff_img)\n",
    "        result_norm_planes.append(norm_img)\n",
    "    result = cv2.merge(result_planes)\n",
    "    result_norm = cv2.merge(result_norm_planes)\n",
    "    return result_norm\n"
   ]
  },
  {
   "cell_type": "code",
   "execution_count": null,
   "metadata": {},
   "outputs": [],
   "source": []
  }
 ],
 "metadata": {
  "kernelspec": {
   "display_name": "Python 3",
   "language": "python",
   "name": "python3"
  },
  "language_info": {
   "codemirror_mode": {
    "name": "ipython",
    "version": 3
   },
   "file_extension": ".py",
   "mimetype": "text/x-python",
   "name": "python",
   "nbconvert_exporter": "python",
   "pygments_lexer": "ipython3",
   "version": "3.7.6"
  }
 },
 "nbformat": 4,
 "nbformat_minor": 4
}
